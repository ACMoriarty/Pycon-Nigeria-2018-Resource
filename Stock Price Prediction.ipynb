{
 "cells": [
  {
   "cell_type": "markdown",
   "metadata": {},
   "source": [
    "### Importing Libraries"
   ]
  },
  {
   "cell_type": "code",
   "execution_count": 169,
   "metadata": {},
   "outputs": [],
   "source": [
    "import pandas as pd\n",
    "import requests\n",
    "import numpy as np\n",
    "from bs4 import BeautifulSoup"
   ]
  },
  {
   "cell_type": "markdown",
   "metadata": {},
   "source": [
    "### Create an empty dataframe to store our data"
   ]
  },
  {
   "cell_type": "code",
   "execution_count": 170,
   "metadata": {
    "collapsed": true
   },
   "outputs": [],
   "source": [
    "data = pd.DataFrame()\n",
    "pd.options.mode.chained_assignment = None #Prevent error Warning of a copy in memory"
   ]
  },
  {
   "cell_type": "markdown",
   "metadata": {},
   "source": [
    "### Build a simple Web Scraper to import Stock Market data from Ngtradeonline.com "
   ]
  },
  {
   "cell_type": "code",
   "execution_count": 171,
   "metadata": {},
   "outputs": [
    {
     "name": "stdout",
     "output_type": "stream",
     "text": [
      "page 0 Done.\n",
      "page 1 Done.\n",
      "page 2 Done.\n",
      "page 3 Done.\n",
      "page 4 Done.\n",
      "page 5 Done.\n",
      "page 6 Done.\n",
      "page 7 Done.\n",
      "page 8 Done.\n",
      "page 9 Done.\n",
      "page 10 Done.\n",
      "page 11 Done.\n",
      "page 12 Done.\n",
      "page 13 Done.\n",
      "page 14 Done.\n",
      "page 15 Done.\n",
      "page 16 Done.\n",
      "page 17 Done.\n",
      "page 18 Done.\n",
      "page 19 Done.\n"
     ]
    }
   ],
   "source": [
    "count = 0 \n",
    "while count < 20    :\n",
    "    res = requests.get(\"http://www.ngtradeonline.com/Home/PriceHistory?page=\"+str(count)+\"&stockName=GUARANTY\")\n",
    "    soup = BeautifulSoup(res.content,'lxml') #Use Beautiful soup to prettify our data\n",
    "    table = soup.find_all('table')[0] #Find all the html tag named 'table'\n",
    "    html_data = pd.read_html(str(table))[0] #Read the content of found html tables\n",
    "    data = data.append(html_data) # Append to the empty Dataframe above\n",
    "    print(\"page \"+str(count)+\" Done.\") #Keep track of each web page read\n",
    "    count = count + 1\n",
    "data.to_csv('GTB_data.csv') # Export the data to a CSV file"
   ]
  },
  {
   "cell_type": "code",
   "execution_count": 172,
   "metadata": {},
   "outputs": [
    {
     "data": {
      "text/html": [
       "<div>\n",
       "<style>\n",
       "    .dataframe thead tr:only-child th {\n",
       "        text-align: right;\n",
       "    }\n",
       "\n",
       "    .dataframe thead th {\n",
       "        text-align: left;\n",
       "    }\n",
       "\n",
       "    .dataframe tbody tr th {\n",
       "        vertical-align: top;\n",
       "    }\n",
       "</style>\n",
       "<table border=\"1\" class=\"dataframe\">\n",
       "  <thead>\n",
       "    <tr style=\"text-align: right;\">\n",
       "      <th></th>\n",
       "      <th>Symbol</th>\n",
       "      <th>Low</th>\n",
       "      <th>Open</th>\n",
       "      <th>Price</th>\n",
       "      <th>Volume</th>\n",
       "      <th>High</th>\n",
       "      <th>Change</th>\n",
       "      <th>Date</th>\n",
       "    </tr>\n",
       "  </thead>\n",
       "  <tbody>\n",
       "    <tr>\n",
       "      <th>0</th>\n",
       "      <td>GUARANTY</td>\n",
       "      <td>31.95</td>\n",
       "      <td>34.50</td>\n",
       "      <td>32.50</td>\n",
       "      <td>0</td>\n",
       "      <td>33.35</td>\n",
       "      <td>-2.00</td>\n",
       "      <td>9/11/2018</td>\n",
       "    </tr>\n",
       "    <tr>\n",
       "      <th>1</th>\n",
       "      <td>GUARANTY</td>\n",
       "      <td>34.50</td>\n",
       "      <td>35.00</td>\n",
       "      <td>34.50</td>\n",
       "      <td>0</td>\n",
       "      <td>35.00</td>\n",
       "      <td>-0.50</td>\n",
       "      <td>9/10/2018</td>\n",
       "    </tr>\n",
       "    <tr>\n",
       "      <th>2</th>\n",
       "      <td>GUARANTY</td>\n",
       "      <td>34.40</td>\n",
       "      <td>34.95</td>\n",
       "      <td>35.00</td>\n",
       "      <td>0</td>\n",
       "      <td>35.30</td>\n",
       "      <td>0.05</td>\n",
       "      <td>9/7/2018</td>\n",
       "    </tr>\n",
       "    <tr>\n",
       "      <th>3</th>\n",
       "      <td>GUARANTY</td>\n",
       "      <td>34.95</td>\n",
       "      <td>36.65</td>\n",
       "      <td>34.95</td>\n",
       "      <td>0</td>\n",
       "      <td>36.50</td>\n",
       "      <td>-1.70</td>\n",
       "      <td>9/6/2018</td>\n",
       "    </tr>\n",
       "    <tr>\n",
       "      <th>4</th>\n",
       "      <td>GUARANTY</td>\n",
       "      <td>36.65</td>\n",
       "      <td>37.05</td>\n",
       "      <td>36.65</td>\n",
       "      <td>0</td>\n",
       "      <td>36.85</td>\n",
       "      <td>-0.40</td>\n",
       "      <td>9/5/2018</td>\n",
       "    </tr>\n",
       "    <tr>\n",
       "      <th>5</th>\n",
       "      <td>GUARANTY</td>\n",
       "      <td>36.50</td>\n",
       "      <td>36.50</td>\n",
       "      <td>37.05</td>\n",
       "      <td>0</td>\n",
       "      <td>37.45</td>\n",
       "      <td>0.55</td>\n",
       "      <td>9/4/2018</td>\n",
       "    </tr>\n",
       "    <tr>\n",
       "      <th>6</th>\n",
       "      <td>GUARANTY</td>\n",
       "      <td>36.05</td>\n",
       "      <td>36.00</td>\n",
       "      <td>36.50</td>\n",
       "      <td>0</td>\n",
       "      <td>36.75</td>\n",
       "      <td>0.50</td>\n",
       "      <td>9/3/2018</td>\n",
       "    </tr>\n",
       "    <tr>\n",
       "      <th>7</th>\n",
       "      <td>GUARANTY</td>\n",
       "      <td>36.00</td>\n",
       "      <td>38.00</td>\n",
       "      <td>36.00</td>\n",
       "      <td>0</td>\n",
       "      <td>37.85</td>\n",
       "      <td>-2.00</td>\n",
       "      <td>8/31/2018</td>\n",
       "    </tr>\n",
       "    <tr>\n",
       "      <th>8</th>\n",
       "      <td>GUARANTY</td>\n",
       "      <td>37.90</td>\n",
       "      <td>39.05</td>\n",
       "      <td>38.00</td>\n",
       "      <td>0</td>\n",
       "      <td>38.00</td>\n",
       "      <td>-1.05</td>\n",
       "      <td>8/30/2018</td>\n",
       "    </tr>\n",
       "    <tr>\n",
       "      <th>9</th>\n",
       "      <td>GUARANTY</td>\n",
       "      <td>38.65</td>\n",
       "      <td>39.00</td>\n",
       "      <td>39.05</td>\n",
       "      <td>0</td>\n",
       "      <td>39.05</td>\n",
       "      <td>0.05</td>\n",
       "      <td>8/29/2018</td>\n",
       "    </tr>\n",
       "    <tr>\n",
       "      <th>0</th>\n",
       "      <td>GUARANTY</td>\n",
       "      <td>31.95</td>\n",
       "      <td>34.50</td>\n",
       "      <td>32.50</td>\n",
       "      <td>0</td>\n",
       "      <td>33.35</td>\n",
       "      <td>-2.00</td>\n",
       "      <td>9/11/2018</td>\n",
       "    </tr>\n",
       "    <tr>\n",
       "      <th>1</th>\n",
       "      <td>GUARANTY</td>\n",
       "      <td>34.50</td>\n",
       "      <td>35.00</td>\n",
       "      <td>34.50</td>\n",
       "      <td>0</td>\n",
       "      <td>35.00</td>\n",
       "      <td>-0.50</td>\n",
       "      <td>9/10/2018</td>\n",
       "    </tr>\n",
       "    <tr>\n",
       "      <th>2</th>\n",
       "      <td>GUARANTY</td>\n",
       "      <td>34.40</td>\n",
       "      <td>34.95</td>\n",
       "      <td>35.00</td>\n",
       "      <td>0</td>\n",
       "      <td>35.30</td>\n",
       "      <td>0.05</td>\n",
       "      <td>9/7/2018</td>\n",
       "    </tr>\n",
       "    <tr>\n",
       "      <th>3</th>\n",
       "      <td>GUARANTY</td>\n",
       "      <td>34.95</td>\n",
       "      <td>36.65</td>\n",
       "      <td>34.95</td>\n",
       "      <td>0</td>\n",
       "      <td>36.50</td>\n",
       "      <td>-1.70</td>\n",
       "      <td>9/6/2018</td>\n",
       "    </tr>\n",
       "    <tr>\n",
       "      <th>4</th>\n",
       "      <td>GUARANTY</td>\n",
       "      <td>36.65</td>\n",
       "      <td>37.05</td>\n",
       "      <td>36.65</td>\n",
       "      <td>0</td>\n",
       "      <td>36.85</td>\n",
       "      <td>-0.40</td>\n",
       "      <td>9/5/2018</td>\n",
       "    </tr>\n",
       "    <tr>\n",
       "      <th>5</th>\n",
       "      <td>GUARANTY</td>\n",
       "      <td>36.50</td>\n",
       "      <td>36.50</td>\n",
       "      <td>37.05</td>\n",
       "      <td>0</td>\n",
       "      <td>37.45</td>\n",
       "      <td>0.55</td>\n",
       "      <td>9/4/2018</td>\n",
       "    </tr>\n",
       "    <tr>\n",
       "      <th>6</th>\n",
       "      <td>GUARANTY</td>\n",
       "      <td>36.05</td>\n",
       "      <td>36.00</td>\n",
       "      <td>36.50</td>\n",
       "      <td>0</td>\n",
       "      <td>36.75</td>\n",
       "      <td>0.50</td>\n",
       "      <td>9/3/2018</td>\n",
       "    </tr>\n",
       "    <tr>\n",
       "      <th>7</th>\n",
       "      <td>GUARANTY</td>\n",
       "      <td>36.00</td>\n",
       "      <td>38.00</td>\n",
       "      <td>36.00</td>\n",
       "      <td>0</td>\n",
       "      <td>37.85</td>\n",
       "      <td>-2.00</td>\n",
       "      <td>8/31/2018</td>\n",
       "    </tr>\n",
       "    <tr>\n",
       "      <th>8</th>\n",
       "      <td>GUARANTY</td>\n",
       "      <td>37.90</td>\n",
       "      <td>39.05</td>\n",
       "      <td>38.00</td>\n",
       "      <td>0</td>\n",
       "      <td>38.00</td>\n",
       "      <td>-1.05</td>\n",
       "      <td>8/30/2018</td>\n",
       "    </tr>\n",
       "    <tr>\n",
       "      <th>9</th>\n",
       "      <td>GUARANTY</td>\n",
       "      <td>38.65</td>\n",
       "      <td>39.00</td>\n",
       "      <td>39.05</td>\n",
       "      <td>0</td>\n",
       "      <td>39.05</td>\n",
       "      <td>0.05</td>\n",
       "      <td>8/29/2018</td>\n",
       "    </tr>\n",
       "  </tbody>\n",
       "</table>\n",
       "</div>"
      ],
      "text/plain": [
       "     Symbol    Low   Open  Price  Volume   High  Change       Date\n",
       "0  GUARANTY  31.95  34.50  32.50       0  33.35   -2.00  9/11/2018\n",
       "1  GUARANTY  34.50  35.00  34.50       0  35.00   -0.50  9/10/2018\n",
       "2  GUARANTY  34.40  34.95  35.00       0  35.30    0.05   9/7/2018\n",
       "3  GUARANTY  34.95  36.65  34.95       0  36.50   -1.70   9/6/2018\n",
       "4  GUARANTY  36.65  37.05  36.65       0  36.85   -0.40   9/5/2018\n",
       "5  GUARANTY  36.50  36.50  37.05       0  37.45    0.55   9/4/2018\n",
       "6  GUARANTY  36.05  36.00  36.50       0  36.75    0.50   9/3/2018\n",
       "7  GUARANTY  36.00  38.00  36.00       0  37.85   -2.00  8/31/2018\n",
       "8  GUARANTY  37.90  39.05  38.00       0  38.00   -1.05  8/30/2018\n",
       "9  GUARANTY  38.65  39.00  39.05       0  39.05    0.05  8/29/2018\n",
       "0  GUARANTY  31.95  34.50  32.50       0  33.35   -2.00  9/11/2018\n",
       "1  GUARANTY  34.50  35.00  34.50       0  35.00   -0.50  9/10/2018\n",
       "2  GUARANTY  34.40  34.95  35.00       0  35.30    0.05   9/7/2018\n",
       "3  GUARANTY  34.95  36.65  34.95       0  36.50   -1.70   9/6/2018\n",
       "4  GUARANTY  36.65  37.05  36.65       0  36.85   -0.40   9/5/2018\n",
       "5  GUARANTY  36.50  36.50  37.05       0  37.45    0.55   9/4/2018\n",
       "6  GUARANTY  36.05  36.00  36.50       0  36.75    0.50   9/3/2018\n",
       "7  GUARANTY  36.00  38.00  36.00       0  37.85   -2.00  8/31/2018\n",
       "8  GUARANTY  37.90  39.05  38.00       0  38.00   -1.05  8/30/2018\n",
       "9  GUARANTY  38.65  39.00  39.05       0  39.05    0.05  8/29/2018"
      ]
     },
     "execution_count": 172,
     "metadata": {},
     "output_type": "execute_result"
    }
   ],
   "source": [
    "data.head(20)"
   ]
  },
  {
   "cell_type": "markdown",
   "metadata": {},
   "source": [
    "### Data transformation"
   ]
  },
  {
   "cell_type": "code",
   "execution_count": 176,
   "metadata": {
    "collapsed": true
   },
   "outputs": [],
   "source": [
    "#Create a column to hold the percentage spread of the closing price\n",
    "data['HL_PCT'] = (data['High']- data['Low'])/data['Price'] *100.0\n",
    "\n",
    "#Create a column to hold the Percentage of Price Change\n",
    "data['PCT_change'] = (data['Price'] - data['Open']) / data['Open'] * 100.0"
   ]
  },
  {
   "cell_type": "markdown",
   "metadata": {},
   "source": [
    "### Generate a new set of data from the transformation above"
   ]
  },
  {
   "cell_type": "code",
   "execution_count": 177,
   "metadata": {
    "collapsed": true
   },
   "outputs": [],
   "source": [
    "new_data = data[['Price', 'HL_PCT', 'PCT_change', 'Volume']]"
   ]
  },
  {
   "cell_type": "code",
   "execution_count": 178,
   "metadata": {},
   "outputs": [
    {
     "data": {
      "text/html": [
       "<div>\n",
       "<style>\n",
       "    .dataframe thead tr:only-child th {\n",
       "        text-align: right;\n",
       "    }\n",
       "\n",
       "    .dataframe thead th {\n",
       "        text-align: left;\n",
       "    }\n",
       "\n",
       "    .dataframe tbody tr th {\n",
       "        vertical-align: top;\n",
       "    }\n",
       "</style>\n",
       "<table border=\"1\" class=\"dataframe\">\n",
       "  <thead>\n",
       "    <tr style=\"text-align: right;\">\n",
       "      <th></th>\n",
       "      <th>Price</th>\n",
       "      <th>HL_PCT</th>\n",
       "      <th>PCT_change</th>\n",
       "      <th>Volume</th>\n",
       "    </tr>\n",
       "  </thead>\n",
       "  <tbody>\n",
       "    <tr>\n",
       "      <th>0</th>\n",
       "      <td>32.50</td>\n",
       "      <td>4.307692</td>\n",
       "      <td>-5.797101</td>\n",
       "      <td>0</td>\n",
       "    </tr>\n",
       "    <tr>\n",
       "      <th>1</th>\n",
       "      <td>34.50</td>\n",
       "      <td>1.449275</td>\n",
       "      <td>-1.428571</td>\n",
       "      <td>0</td>\n",
       "    </tr>\n",
       "    <tr>\n",
       "      <th>2</th>\n",
       "      <td>35.00</td>\n",
       "      <td>2.571429</td>\n",
       "      <td>0.143062</td>\n",
       "      <td>0</td>\n",
       "    </tr>\n",
       "    <tr>\n",
       "      <th>3</th>\n",
       "      <td>34.95</td>\n",
       "      <td>4.434907</td>\n",
       "      <td>-4.638472</td>\n",
       "      <td>0</td>\n",
       "    </tr>\n",
       "    <tr>\n",
       "      <th>4</th>\n",
       "      <td>36.65</td>\n",
       "      <td>0.545703</td>\n",
       "      <td>-1.079622</td>\n",
       "      <td>0</td>\n",
       "    </tr>\n",
       "    <tr>\n",
       "      <th>5</th>\n",
       "      <td>37.05</td>\n",
       "      <td>2.564103</td>\n",
       "      <td>1.506849</td>\n",
       "      <td>0</td>\n",
       "    </tr>\n",
       "    <tr>\n",
       "      <th>6</th>\n",
       "      <td>36.50</td>\n",
       "      <td>1.917808</td>\n",
       "      <td>1.388889</td>\n",
       "      <td>0</td>\n",
       "    </tr>\n",
       "    <tr>\n",
       "      <th>7</th>\n",
       "      <td>36.00</td>\n",
       "      <td>5.138889</td>\n",
       "      <td>-5.263158</td>\n",
       "      <td>0</td>\n",
       "    </tr>\n",
       "    <tr>\n",
       "      <th>8</th>\n",
       "      <td>38.00</td>\n",
       "      <td>0.263158</td>\n",
       "      <td>-2.688860</td>\n",
       "      <td>0</td>\n",
       "    </tr>\n",
       "    <tr>\n",
       "      <th>9</th>\n",
       "      <td>39.05</td>\n",
       "      <td>1.024328</td>\n",
       "      <td>0.128205</td>\n",
       "      <td>0</td>\n",
       "    </tr>\n",
       "  </tbody>\n",
       "</table>\n",
       "</div>"
      ],
      "text/plain": [
       "   Price    HL_PCT  PCT_change  Volume\n",
       "0  32.50  4.307692   -5.797101       0\n",
       "1  34.50  1.449275   -1.428571       0\n",
       "2  35.00  2.571429    0.143062       0\n",
       "3  34.95  4.434907   -4.638472       0\n",
       "4  36.65  0.545703   -1.079622       0\n",
       "5  37.05  2.564103    1.506849       0\n",
       "6  36.50  1.917808    1.388889       0\n",
       "7  36.00  5.138889   -5.263158       0\n",
       "8  38.00  0.263158   -2.688860       0\n",
       "9  39.05  1.024328    0.128205       0"
      ]
     },
     "execution_count": 178,
     "metadata": {},
     "output_type": "execute_result"
    }
   ],
   "source": [
    "new_data.head(10)"
   ]
  },
  {
   "cell_type": "markdown",
   "metadata": {},
   "source": [
    "### Import the Machine Learning Algorithms from Scikit Learn library"
   ]
  },
  {
   "cell_type": "code",
   "execution_count": 179,
   "metadata": {},
   "outputs": [],
   "source": [
    "from sklearn import preprocessing, cross_validation, svm\n",
    "from sklearn.linear_model import LinearRegression\n",
    "import math"
   ]
  },
  {
   "cell_type": "code",
   "execution_count": 180,
   "metadata": {},
   "outputs": [],
   "source": [
    "#new_data.fillna(value=-99999, inplace=True)"
   ]
  },
  {
   "cell_type": "markdown",
   "metadata": {},
   "source": [
    "### Feature Engineering - Forcasting the stock prices"
   ]
  },
  {
   "cell_type": "code",
   "execution_count": 181,
   "metadata": {},
   "outputs": [],
   "source": [
    "forcast_value = int(math.ceil(0.01 * len(new_data))) # Deduce the number of times to forcast\n",
    "# Add a new column that a shifting of the price values based on the size of data\n",
    "new_data['label'] = new_data['Price'].shift(-forcast_value)"
   ]
  },
  {
   "cell_type": "code",
   "execution_count": 182,
   "metadata": {
    "scrolled": true
   },
   "outputs": [
    {
     "data": {
      "text/html": [
       "<div>\n",
       "<style>\n",
       "    .dataframe thead tr:only-child th {\n",
       "        text-align: right;\n",
       "    }\n",
       "\n",
       "    .dataframe thead th {\n",
       "        text-align: left;\n",
       "    }\n",
       "\n",
       "    .dataframe tbody tr th {\n",
       "        vertical-align: top;\n",
       "    }\n",
       "</style>\n",
       "<table border=\"1\" class=\"dataframe\">\n",
       "  <thead>\n",
       "    <tr style=\"text-align: right;\">\n",
       "      <th></th>\n",
       "      <th>Price</th>\n",
       "      <th>HL_PCT</th>\n",
       "      <th>PCT_change</th>\n",
       "      <th>Volume</th>\n",
       "      <th>label</th>\n",
       "    </tr>\n",
       "  </thead>\n",
       "  <tbody>\n",
       "    <tr>\n",
       "      <th>0</th>\n",
       "      <td>32.50</td>\n",
       "      <td>4.307692</td>\n",
       "      <td>-5.797101</td>\n",
       "      <td>0</td>\n",
       "      <td>35.00</td>\n",
       "    </tr>\n",
       "    <tr>\n",
       "      <th>1</th>\n",
       "      <td>34.50</td>\n",
       "      <td>1.449275</td>\n",
       "      <td>-1.428571</td>\n",
       "      <td>0</td>\n",
       "      <td>34.95</td>\n",
       "    </tr>\n",
       "    <tr>\n",
       "      <th>2</th>\n",
       "      <td>35.00</td>\n",
       "      <td>2.571429</td>\n",
       "      <td>0.143062</td>\n",
       "      <td>0</td>\n",
       "      <td>36.65</td>\n",
       "    </tr>\n",
       "    <tr>\n",
       "      <th>3</th>\n",
       "      <td>34.95</td>\n",
       "      <td>4.434907</td>\n",
       "      <td>-4.638472</td>\n",
       "      <td>0</td>\n",
       "      <td>37.05</td>\n",
       "    </tr>\n",
       "    <tr>\n",
       "      <th>4</th>\n",
       "      <td>36.65</td>\n",
       "      <td>0.545703</td>\n",
       "      <td>-1.079622</td>\n",
       "      <td>0</td>\n",
       "      <td>36.50</td>\n",
       "    </tr>\n",
       "  </tbody>\n",
       "</table>\n",
       "</div>"
      ],
      "text/plain": [
       "   Price    HL_PCT  PCT_change  Volume  label\n",
       "0  32.50  4.307692   -5.797101       0  35.00\n",
       "1  34.50  1.449275   -1.428571       0  34.95\n",
       "2  35.00  2.571429    0.143062       0  36.65\n",
       "3  34.95  4.434907   -4.638472       0  37.05\n",
       "4  36.65  0.545703   -1.079622       0  36.50"
      ]
     },
     "execution_count": 182,
     "metadata": {},
     "output_type": "execute_result"
    }
   ],
   "source": [
    "new_data.head()"
   ]
  },
  {
   "cell_type": "code",
   "execution_count": 183,
   "metadata": {
    "scrolled": true
   },
   "outputs": [],
   "source": [
    "new_data.dropna(inplace= True)"
   ]
  },
  {
   "cell_type": "markdown",
   "metadata": {},
   "source": [
    "### Creating the features and the label for training the model"
   ]
  },
  {
   "cell_type": "code",
   "execution_count": 184,
   "metadata": {
    "collapsed": true
   },
   "outputs": [],
   "source": [
    "x = np.array(new_data.drop(['Price'], axis = 1))\n",
    "y = np.array(new_data['Price'])"
   ]
  },
  {
   "cell_type": "markdown",
   "metadata": {},
   "source": [
    "### Pre-processing: Scaling the data to normalize it's values"
   ]
  },
  {
   "cell_type": "code",
   "execution_count": 185,
   "metadata": {
    "collapsed": true
   },
   "outputs": [],
   "source": [
    "#Pre-processing\n",
    "x = preprocessing.scale(x)"
   ]
  },
  {
   "cell_type": "code",
   "execution_count": 186,
   "metadata": {
    "collapsed": true
   },
   "outputs": [],
   "source": [
    "# Splitting the data into training and test set\n",
    "x_train, x_test, y_train, y_test = cross_validation.train_test_split(x, y, test_size=0.2)"
   ]
  },
  {
   "cell_type": "markdown",
   "metadata": {},
   "source": [
    "### Building the Machine Learning Model"
   ]
  },
  {
   "cell_type": "markdown",
   "metadata": {},
   "source": [
    "### Using Linear Regression Machine Learning Algorithm"
   ]
  },
  {
   "cell_type": "code",
   "execution_count": 187,
   "metadata": {},
   "outputs": [
    {
     "data": {
      "text/plain": [
       "LinearRegression(copy_X=True, fit_intercept=True, n_jobs=1, normalize=False)"
      ]
     },
     "execution_count": 187,
     "metadata": {},
     "output_type": "execute_result"
    }
   ],
   "source": [
    "linear_model = LinearRegression()\n",
    "linear_model.fit(x_train, y_train)"
   ]
  },
  {
   "cell_type": "markdown",
   "metadata": {},
   "source": [
    "### Evaluating the Accuracy of the model"
   ]
  },
  {
   "cell_type": "code",
   "execution_count": 188,
   "metadata": {},
   "outputs": [
    {
     "name": "stdout",
     "output_type": "stream",
     "text": [
      "Percentage Accuracy =  93.0 %\n"
     ]
    }
   ],
   "source": [
    "accuracy = linear_model.score(x_test, y_test)\n",
    "accuracy = accuracy * 100\n",
    "print('Percentage Accuracy = ',np.round(accuracy),'%')"
   ]
  },
  {
   "cell_type": "markdown",
   "metadata": {},
   "source": [
    "### Using Support Vector Regression (SVR) Machine Learning Algorithm"
   ]
  },
  {
   "cell_type": "code",
   "execution_count": 189,
   "metadata": {},
   "outputs": [
    {
     "data": {
      "text/plain": [
       "SVR(C=1.0, cache_size=200, coef0=0.0, degree=3, epsilon=0.1, gamma='auto',\n",
       "  kernel='rbf', max_iter=-1, shrinking=True, tol=0.001, verbose=False)"
      ]
     },
     "execution_count": 189,
     "metadata": {},
     "output_type": "execute_result"
    }
   ],
   "source": [
    "clf = svm.SVR() #Creating an instance of SVR model\n",
    "clf.fit(x_train, y_train)   # Fitting the model on the data"
   ]
  },
  {
   "cell_type": "markdown",
   "metadata": {},
   "source": [
    "### Evaluating the Accuracy of the model"
   ]
  },
  {
   "cell_type": "code",
   "execution_count": 190,
   "metadata": {},
   "outputs": [
    {
     "name": "stdout",
     "output_type": "stream",
     "text": [
      "Percentage Accuracy =  88.0 %\n"
     ]
    }
   ],
   "source": [
    "accuracy = clf.score(x_test, y_test)\n",
    "accuracy = accuracy * 100\n",
    "print('Percentage Accuracy = ',np.round(accuracy),'%')"
   ]
  },
  {
   "cell_type": "markdown",
   "metadata": {},
   "source": [
    "### Using multiple kernels for the SVR"
   ]
  },
  {
   "cell_type": "code",
   "execution_count": 192,
   "metadata": {},
   "outputs": [
    {
     "name": "stdout",
     "output_type": "stream",
     "text": [
      "Percentage Accuracy =  linear 88.0 %\n",
      "Percentage Accuracy =  poly 88.0 %\n",
      "Percentage Accuracy =  rbf 88.0 %\n",
      "Percentage Accuracy =  sigmoid 88.0 %\n"
     ]
    }
   ],
   "source": [
    "for k in ['linear','poly','rbf','sigmoid']:\n",
    "    clf = svm.SVR(kernel=k)\n",
    "    clf.fit(x_train, y_train)\n",
    "    confidence = clf.score(x_test, y_test)\n",
    "    print('Percentage Accuracy = ', k, np.round(accuracy), '%')\n"
   ]
  },
  {
   "cell_type": "markdown",
   "metadata": {
    "collapsed": true
   },
   "source": [
    "### Predicted Values"
   ]
  },
  {
   "cell_type": "code",
   "execution_count": 199,
   "metadata": {
    "collapsed": true
   },
   "outputs": [],
   "source": [
    "predictions = linear_model.predict(x_test)"
   ]
  },
  {
   "cell_type": "code",
   "execution_count": 200,
   "metadata": {},
   "outputs": [],
   "source": [
    "price_pred = pd.DataFrame(predictions, columns = ['Predicted Price'])\n",
    "price_pred.to_csv('Price Predictions.csv', index_label = ['S/N'])"
   ]
  },
  {
   "cell_type": "code",
   "execution_count": 201,
   "metadata": {},
   "outputs": [
    {
     "data": {
      "text/html": [
       "<div>\n",
       "<style>\n",
       "    .dataframe thead tr:only-child th {\n",
       "        text-align: right;\n",
       "    }\n",
       "\n",
       "    .dataframe thead th {\n",
       "        text-align: left;\n",
       "    }\n",
       "\n",
       "    .dataframe tbody tr th {\n",
       "        vertical-align: top;\n",
       "    }\n",
       "</style>\n",
       "<table border=\"1\" class=\"dataframe\">\n",
       "  <thead>\n",
       "    <tr style=\"text-align: right;\">\n",
       "      <th></th>\n",
       "      <th>Predicted Price</th>\n",
       "    </tr>\n",
       "  </thead>\n",
       "  <tbody>\n",
       "    <tr>\n",
       "      <th>0</th>\n",
       "      <td>43.322709</td>\n",
       "    </tr>\n",
       "    <tr>\n",
       "      <th>1</th>\n",
       "      <td>40.542875</td>\n",
       "    </tr>\n",
       "    <tr>\n",
       "      <th>2</th>\n",
       "      <td>40.887115</td>\n",
       "    </tr>\n",
       "    <tr>\n",
       "      <th>3</th>\n",
       "      <td>46.973188</td>\n",
       "    </tr>\n",
       "    <tr>\n",
       "      <th>4</th>\n",
       "      <td>45.131754</td>\n",
       "    </tr>\n",
       "    <tr>\n",
       "      <th>5</th>\n",
       "      <td>47.358849</td>\n",
       "    </tr>\n",
       "    <tr>\n",
       "      <th>6</th>\n",
       "      <td>40.227388</td>\n",
       "    </tr>\n",
       "    <tr>\n",
       "      <th>7</th>\n",
       "      <td>43.365075</td>\n",
       "    </tr>\n",
       "    <tr>\n",
       "      <th>8</th>\n",
       "      <td>43.051027</td>\n",
       "    </tr>\n",
       "    <tr>\n",
       "      <th>9</th>\n",
       "      <td>42.823897</td>\n",
       "    </tr>\n",
       "  </tbody>\n",
       "</table>\n",
       "</div>"
      ],
      "text/plain": [
       "   Predicted Price\n",
       "0        43.322709\n",
       "1        40.542875\n",
       "2        40.887115\n",
       "3        46.973188\n",
       "4        45.131754\n",
       "5        47.358849\n",
       "6        40.227388\n",
       "7        43.365075\n",
       "8        43.051027\n",
       "9        42.823897"
      ]
     },
     "execution_count": 201,
     "metadata": {},
     "output_type": "execute_result"
    }
   ],
   "source": [
    "price_pred.head(10)"
   ]
  },
  {
   "cell_type": "code",
   "execution_count": null,
   "metadata": {
    "collapsed": true
   },
   "outputs": [],
   "source": []
  }
 ],
 "metadata": {
  "kernelspec": {
   "display_name": "Python 3",
   "language": "python",
   "name": "python3"
  },
  "language_info": {
   "codemirror_mode": {
    "name": "ipython",
    "version": 3
   },
   "file_extension": ".py",
   "mimetype": "text/x-python",
   "name": "python",
   "nbconvert_exporter": "python",
   "pygments_lexer": "ipython3",
   "version": "3.6.1"
  }
 },
 "nbformat": 4,
 "nbformat_minor": 2
}
